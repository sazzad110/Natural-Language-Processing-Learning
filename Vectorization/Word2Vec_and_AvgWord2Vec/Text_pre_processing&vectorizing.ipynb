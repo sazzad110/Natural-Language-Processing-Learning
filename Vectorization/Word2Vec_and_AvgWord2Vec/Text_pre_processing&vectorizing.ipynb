{
  "nbformat": 4,
  "nbformat_minor": 0,
  "metadata": {
    "colab": {
      "provenance": [],
      "authorship_tag": "ABX9TyP+M+Y+8Rz4o/wZHYgbn70y",
      "include_colab_link": true
    },
    "kernelspec": {
      "name": "python3",
      "display_name": "Python 3"
    },
    "language_info": {
      "name": "python"
    }
  },
  "cells": [
    {
      "cell_type": "markdown",
      "metadata": {
        "id": "view-in-github",
        "colab_type": "text"
      },
      "source": [
        "<a href=\"https://colab.research.google.com/github/sazzad110/Natural-Language-Processing/blob/main/Text_pre_processing%26vectorizing.ipynb\" target=\"_parent\"><img src=\"https://colab.research.google.com/assets/colab-badge.svg\" alt=\"Open In Colab\"/></a>"
      ]
    },
    {
      "cell_type": "code",
      "execution_count": 1,
      "metadata": {
        "colab": {
          "base_uri": "https://localhost:8080/"
        },
        "id": "yjA5SKRBV6-h",
        "outputId": "525e9fe5-c686-40ac-d447-ad49d44b2884"
      },
      "outputs": [
        {
          "output_type": "stream",
          "name": "stderr",
          "text": [
            "[nltk_data] Downloading package punkt to /root/nltk_data...\n",
            "[nltk_data]   Unzipping tokenizers/punkt.zip.\n",
            "[nltk_data] Downloading package stopwords to /root/nltk_data...\n",
            "[nltk_data]   Unzipping corpora/stopwords.zip.\n",
            "[nltk_data] Downloading package wordnet to /root/nltk_data...\n"
          ]
        },
        {
          "output_type": "execute_result",
          "data": {
            "text/plain": [
              "True"
            ]
          },
          "metadata": {},
          "execution_count": 1
        }
      ],
      "source": [
        "import re   # for regular expression\n",
        "\n",
        "import nltk\n",
        "from nltk.tokenize import word_tokenize,sent_tokenize\n",
        "from nltk.corpus import stopwords\n",
        "from nltk.stem import PorterStemmer,WordNetLemmatizer\n",
        "\n",
        "nltk.download('punkt')\n",
        "nltk.download('stopwords')\n",
        "nltk.download('wordnet')"
      ]
    },
    {
      "cell_type": "code",
      "source": [
        "paragraph = ''' Muhammad Yunus[a] (born 28 June 1940) is a Bangladeshi economist, entrepreneur, politician, and civil society leader, who has been serving as the 5th Chief Adviser of the interim government of Bangladesh since 8 August 2024.[2] Yunus was awarded the Nobel Peace Prize in 2006 for founding the Grameen Bank and pioneering the concepts of microcredit and microfinance.[3] Yunus has received several other national and international honors, including the United States Presidential Medal of Freedom in 2009 and the Congressional Gold Medal in 2010.[4]\n",
        "\n",
        "In 2012, Yunus became Chancellor of Glasgow Caledonian University in Scotland, a position he held until 2018.[5][6] Previously, he was a professor of economics at Chittagong University in Bangladesh.[7] He published several books related to his finance work. He is a founding board member of Grameen America and Grameen Foundation, which support microcredit.[8] Yunus also served on the board of directors of the United Nations Foundation, a public charity to support UN causes, from 1998 to 2021.[9] In 2022, he partnered with Global Esports Federation to build esports for the development movement.[10]\n",
        "\n",
        "After dissolving the parliament on 6 August 2024, Bangladeshi president Mohammed Shahabuddin nominated Yunus to serve as the head of the interim government of Bangladesh, acceding to student demands following the resignation of former Prime Minister Sheikh Hasina.[11] The main pledge of his ministry is organize a constituent assembly to draft and adopt a new, democratic and inclusive constitution, ensuring the inviolability of human dignity.[12] His acquittal on appeal the following day of charges of labour code violations, which were viewed as politically motivated, facilitated his return to the country and appointment.[13] His name was listed in The 500 Most Influential Muslims in 2024.[14]\n",
        "\n",
        "'''"
      ],
      "metadata": {
        "id": "l3gqQZmdW15r"
      },
      "execution_count": 2,
      "outputs": []
    },
    {
      "cell_type": "code",
      "source": [
        "sentences = sent_tokenize(paragraph)"
      ],
      "metadata": {
        "id": "ZHRJiyAjXXgx"
      },
      "execution_count": 3,
      "outputs": []
    },
    {
      "cell_type": "code",
      "source": [
        "# demo uses of stemming and lemma\n",
        "stemmer = PorterStemmer().stem(\"history\")\n",
        "lemma = WordNetLemmatizer().lemmatize(\"history\")\n",
        "print(f\"stemmer: {stemmer}\")\n",
        "print(f\"lemma: {lemma}\")\n"
      ],
      "metadata": {
        "colab": {
          "base_uri": "https://localhost:8080/"
        },
        "id": "jt0xriBjdA4c",
        "outputId": "bb1d514e-ba8b-4475-f634-afc548f2a4dd"
      },
      "execution_count": 4,
      "outputs": [
        {
          "output_type": "stream",
          "name": "stdout",
          "text": [
            "stemmer: histori\n",
            "lemma: history\n"
          ]
        }
      ]
    },
    {
      "cell_type": "code",
      "source": [
        "# Remove all special , numeric character from sentences\n",
        "corpus = []  # Initialize an empty list to store cleaned sentences.\n",
        "for i in range(len(sentences)):\n",
        "  review = re.sub('[^a-zA-Z]',' ',sentences[i])  # Remove special characters and numbers.\n",
        "  review = review.lower()  # Convert text to lowercase.\n",
        "  review = review.split()  # Tokenize the sentence into words.\n",
        "  review = [WordNetLemmatizer().lemmatize(word) for word in review if not word in set(stopwords.words('english'))]  # Lemmatize and remove stopwords.\n",
        "  review = ' '.join(review)  # Join the words back into a single string.\n",
        "  corpus.append(review)  # Add the cleaned sentence to the corpus list.\n",
        "\n",
        "print(corpus)\n"
      ],
      "metadata": {
        "colab": {
          "base_uri": "https://localhost:8080/"
        },
        "id": "NjM7HnRpfOlG",
        "outputId": "2b6ec141-2c50-4c49-cbcf-0c7dba158dd2"
      },
      "execution_count": 5,
      "outputs": [
        {
          "output_type": "stream",
          "name": "stdout",
          "text": [
            "['muhammad yunus born june bangladeshi economist entrepreneur politician civil society leader serving th chief adviser interim government bangladesh since august', 'yunus awarded nobel peace prize founding grameen bank pioneering concept microcredit microfinance', 'yunus received several national international honor including united state presidential medal freedom congressional gold medal', 'yunus became chancellor glasgow caledonian university scotland position held', 'previously professor economics chittagong university bangladesh', 'published several book related finance work', 'founding board member grameen america grameen foundation support microcredit', 'yunus also served board director united nation foundation public charity support un cause', 'partnered global esports federation build esports development movement', 'dissolving parliament august bangladeshi president mohammed shahabuddin nominated yunus serve head interim government bangladesh acceding student demand following resignation former prime minister sheikh hasina', 'main pledge ministry organize constituent assembly draft adopt new democratic inclusive constitution ensuring inviolability human dignity', 'acquittal appeal following day charge labour code violation viewed politically motivated facilitated return country appointment', 'name listed influential muslim', '']\n"
          ]
        }
      ]
    },
    {
      "cell_type": "markdown",
      "source": [],
      "metadata": {
        "id": "DgFfLBzRasAt"
      }
    },
    {
      "cell_type": "markdown",
      "source": [
        "***Bag Of Words***\n",
        "\n",
        "\n",
        "---\n",
        "\n",
        "\n",
        "\n"
      ],
      "metadata": {
        "id": "yJIQrqPgajH7"
      }
    },
    {
      "cell_type": "code",
      "source": [
        "#for doing bow import this\n",
        "from sklearn.feature_extraction.text import CountVectorizer"
      ],
      "metadata": {
        "id": "YgWTy0hXiOuX"
      },
      "execution_count": 6,
      "outputs": []
    },
    {
      "cell_type": "code",
      "source": [
        "\n",
        "\n",
        "# Initialize the CountVectorizer\n",
        "cv = CountVectorizer()\n",
        "X = cv.fit_transform(corpus)\n",
        "# cv.vocabulary_: This gives you a dictionary where the keys are the words (terms) from the corpus, and the values are the indices of those words (as they appear in the term-document matrix).\n",
        "cv.vocabulary_\n",
        "\n"
      ],
      "metadata": {
        "colab": {
          "base_uri": "https://localhost:8080/"
        },
        "id": "0224xJhaj9GA",
        "outputId": "b480726c-1cdc-499f-e73d-8d9947848ac2"
      },
      "execution_count": 7,
      "outputs": [
        {
          "output_type": "execute_result",
          "data": {
            "text/plain": [
              "{'muhammad': 84,\n",
              " 'yunus': 132,\n",
              " 'born': 17,\n",
              " 'june': 70,\n",
              " 'bangladeshi': 12,\n",
              " 'economist': 42,\n",
              " 'entrepreneur': 44,\n",
              " 'politician': 99,\n",
              " 'civil': 26,\n",
              " 'society': 121,\n",
              " 'leader': 72,\n",
              " 'serving': 116,\n",
              " 'th': 125,\n",
              " 'chief': 24,\n",
              " 'adviser': 3,\n",
              " 'interim': 67,\n",
              " 'government': 57,\n",
              " 'bangladesh': 11,\n",
              " 'since': 120,\n",
              " 'august': 9,\n",
              " 'awarded': 10,\n",
              " 'nobel': 90,\n",
              " 'peace': 95,\n",
              " 'prize': 105,\n",
              " 'founding': 52,\n",
              " 'grameen': 58,\n",
              " 'bank': 13,\n",
              " 'pioneering': 96,\n",
              " 'concept': 28,\n",
              " 'microcredit': 77,\n",
              " 'microfinance': 78,\n",
              " 'received': 109,\n",
              " 'several': 117,\n",
              " 'national': 88,\n",
              " 'international': 68,\n",
              " 'honor': 62,\n",
              " 'including': 64,\n",
              " 'united': 127,\n",
              " 'state': 122,\n",
              " 'presidential': 102,\n",
              " 'medal': 75,\n",
              " 'freedom': 53,\n",
              " 'congressional': 29,\n",
              " 'gold': 56,\n",
              " 'became': 14,\n",
              " 'chancellor': 21,\n",
              " 'glasgow': 54,\n",
              " 'caledonian': 19,\n",
              " 'university': 128,\n",
              " 'scotland': 113,\n",
              " 'position': 100,\n",
              " 'held': 61,\n",
              " 'previously': 103,\n",
              " 'professor': 106,\n",
              " 'economics': 41,\n",
              " 'chittagong': 25,\n",
              " 'published': 108,\n",
              " 'book': 16,\n",
              " 'related': 110,\n",
              " 'finance': 48,\n",
              " 'work': 131,\n",
              " 'board': 15,\n",
              " 'member': 76,\n",
              " 'america': 5,\n",
              " 'foundation': 51,\n",
              " 'support': 124,\n",
              " 'also': 4,\n",
              " 'served': 115,\n",
              " 'director': 38,\n",
              " 'nation': 87,\n",
              " 'public': 107,\n",
              " 'charity': 23,\n",
              " 'un': 126,\n",
              " 'cause': 20,\n",
              " 'partnered': 94,\n",
              " 'global': 55,\n",
              " 'esports': 45,\n",
              " 'federation': 47,\n",
              " 'build': 18,\n",
              " 'development': 36,\n",
              " 'movement': 83,\n",
              " 'dissolving': 39,\n",
              " 'parliament': 93,\n",
              " 'president': 101,\n",
              " 'mohammed': 81,\n",
              " 'shahabuddin': 118,\n",
              " 'nominated': 91,\n",
              " 'serve': 114,\n",
              " 'head': 60,\n",
              " 'acceding': 0,\n",
              " 'student': 123,\n",
              " 'demand': 34,\n",
              " 'following': 49,\n",
              " 'resignation': 111,\n",
              " 'former': 50,\n",
              " 'prime': 104,\n",
              " 'minister': 79,\n",
              " 'sheikh': 119,\n",
              " 'hasina': 59,\n",
              " 'main': 74,\n",
              " 'pledge': 97,\n",
              " 'ministry': 80,\n",
              " 'organize': 92,\n",
              " 'constituent': 30,\n",
              " 'assembly': 8,\n",
              " 'draft': 40,\n",
              " 'adopt': 2,\n",
              " 'new': 89,\n",
              " 'democratic': 35,\n",
              " 'inclusive': 65,\n",
              " 'constitution': 31,\n",
              " 'ensuring': 43,\n",
              " 'inviolability': 69,\n",
              " 'human': 63,\n",
              " 'dignity': 37,\n",
              " 'acquittal': 1,\n",
              " 'appeal': 6,\n",
              " 'day': 33,\n",
              " 'charge': 22,\n",
              " 'labour': 71,\n",
              " 'code': 27,\n",
              " 'violation': 130,\n",
              " 'viewed': 129,\n",
              " 'politically': 98,\n",
              " 'motivated': 82,\n",
              " 'facilitated': 46,\n",
              " 'return': 112,\n",
              " 'country': 32,\n",
              " 'appointment': 7,\n",
              " 'name': 86,\n",
              " 'listed': 73,\n",
              " 'influential': 66,\n",
              " 'muslim': 85}"
            ]
          },
          "metadata": {},
          "execution_count": 7
        }
      ]
    },
    {
      "cell_type": "code",
      "source": [
        "print(corpus[0])\n",
        "\n",
        "# see how bow create of this frist sentences from corpus\n",
        "X[0].toarray() # it prints column wise ."
      ],
      "metadata": {
        "colab": {
          "base_uri": "https://localhost:8080/"
        },
        "id": "HJz0GWjiltDt",
        "outputId": "84c007d7-af79-429b-9540-ccd41fd98edd"
      },
      "execution_count": 8,
      "outputs": [
        {
          "output_type": "stream",
          "name": "stdout",
          "text": [
            "muhammad yunus born june bangladeshi economist entrepreneur politician civil society leader serving th chief adviser interim government bangladesh since august\n"
          ]
        },
        {
          "output_type": "execute_result",
          "data": {
            "text/plain": [
              "array([[0, 0, 0, 1, 0, 0, 0, 0, 0, 1, 0, 1, 1, 0, 0, 0, 0, 1, 0, 0, 0, 0,\n",
              "        0, 0, 1, 0, 1, 0, 0, 0, 0, 0, 0, 0, 0, 0, 0, 0, 0, 0, 0, 0, 1, 0,\n",
              "        1, 0, 0, 0, 0, 0, 0, 0, 0, 0, 0, 0, 0, 1, 0, 0, 0, 0, 0, 0, 0, 0,\n",
              "        0, 1, 0, 0, 1, 0, 1, 0, 0, 0, 0, 0, 0, 0, 0, 0, 0, 0, 1, 0, 0, 0,\n",
              "        0, 0, 0, 0, 0, 0, 0, 0, 0, 0, 0, 1, 0, 0, 0, 0, 0, 0, 0, 0, 0, 0,\n",
              "        0, 0, 0, 0, 0, 0, 1, 0, 0, 0, 1, 1, 0, 0, 0, 1, 0, 0, 0, 0, 0, 0,\n",
              "        1]])"
            ]
          },
          "metadata": {},
          "execution_count": 8
        }
      ]
    },
    {
      "cell_type": "code",
      "source": [
        "# Convert the result to an array (optional, to see the matrix)\n",
        "term_document_matrix = X.toarray()\n",
        "print(term_document_matrix)"
      ],
      "metadata": {
        "colab": {
          "base_uri": "https://localhost:8080/"
        },
        "id": "XWBhFMb0oBI1",
        "outputId": "3ed2c81d-96e0-4848-bf70-e5ccf028894a"
      },
      "execution_count": 9,
      "outputs": [
        {
          "output_type": "stream",
          "name": "stdout",
          "text": [
            "[[0 0 0 ... 0 0 1]\n",
            " [0 0 0 ... 0 0 1]\n",
            " [0 0 0 ... 0 0 1]\n",
            " ...\n",
            " [0 1 0 ... 1 0 0]\n",
            " [0 0 0 ... 0 0 0]\n",
            " [0 0 0 ... 0 0 0]]\n"
          ]
        }
      ]
    },
    {
      "cell_type": "markdown",
      "source": [
        "**TF-IDF**\n"
      ],
      "metadata": {
        "id": "klduIXtYa8OX"
      }
    },
    {
      "cell_type": "code",
      "source": [
        "from sklearn.feature_extraction.text import TfidfVectorizer"
      ],
      "metadata": {
        "id": "IbIHLWV4oLKI"
      },
      "execution_count": 10,
      "outputs": []
    },
    {
      "cell_type": "code",
      "source": [
        "tv = TfidfVectorizer()\n",
        "Y = tv.fit_transform(corpus)\n",
        "tv.vocabulary_\n"
      ],
      "metadata": {
        "colab": {
          "base_uri": "https://localhost:8080/"
        },
        "id": "IT4s7qF2bJMt",
        "outputId": "a8390ba9-f0db-4dbd-e4b2-6941e457d30a"
      },
      "execution_count": 11,
      "outputs": [
        {
          "output_type": "execute_result",
          "data": {
            "text/plain": [
              "{'muhammad': 84,\n",
              " 'yunus': 132,\n",
              " 'born': 17,\n",
              " 'june': 70,\n",
              " 'bangladeshi': 12,\n",
              " 'economist': 42,\n",
              " 'entrepreneur': 44,\n",
              " 'politician': 99,\n",
              " 'civil': 26,\n",
              " 'society': 121,\n",
              " 'leader': 72,\n",
              " 'serving': 116,\n",
              " 'th': 125,\n",
              " 'chief': 24,\n",
              " 'adviser': 3,\n",
              " 'interim': 67,\n",
              " 'government': 57,\n",
              " 'bangladesh': 11,\n",
              " 'since': 120,\n",
              " 'august': 9,\n",
              " 'awarded': 10,\n",
              " 'nobel': 90,\n",
              " 'peace': 95,\n",
              " 'prize': 105,\n",
              " 'founding': 52,\n",
              " 'grameen': 58,\n",
              " 'bank': 13,\n",
              " 'pioneering': 96,\n",
              " 'concept': 28,\n",
              " 'microcredit': 77,\n",
              " 'microfinance': 78,\n",
              " 'received': 109,\n",
              " 'several': 117,\n",
              " 'national': 88,\n",
              " 'international': 68,\n",
              " 'honor': 62,\n",
              " 'including': 64,\n",
              " 'united': 127,\n",
              " 'state': 122,\n",
              " 'presidential': 102,\n",
              " 'medal': 75,\n",
              " 'freedom': 53,\n",
              " 'congressional': 29,\n",
              " 'gold': 56,\n",
              " 'became': 14,\n",
              " 'chancellor': 21,\n",
              " 'glasgow': 54,\n",
              " 'caledonian': 19,\n",
              " 'university': 128,\n",
              " 'scotland': 113,\n",
              " 'position': 100,\n",
              " 'held': 61,\n",
              " 'previously': 103,\n",
              " 'professor': 106,\n",
              " 'economics': 41,\n",
              " 'chittagong': 25,\n",
              " 'published': 108,\n",
              " 'book': 16,\n",
              " 'related': 110,\n",
              " 'finance': 48,\n",
              " 'work': 131,\n",
              " 'board': 15,\n",
              " 'member': 76,\n",
              " 'america': 5,\n",
              " 'foundation': 51,\n",
              " 'support': 124,\n",
              " 'also': 4,\n",
              " 'served': 115,\n",
              " 'director': 38,\n",
              " 'nation': 87,\n",
              " 'public': 107,\n",
              " 'charity': 23,\n",
              " 'un': 126,\n",
              " 'cause': 20,\n",
              " 'partnered': 94,\n",
              " 'global': 55,\n",
              " 'esports': 45,\n",
              " 'federation': 47,\n",
              " 'build': 18,\n",
              " 'development': 36,\n",
              " 'movement': 83,\n",
              " 'dissolving': 39,\n",
              " 'parliament': 93,\n",
              " 'president': 101,\n",
              " 'mohammed': 81,\n",
              " 'shahabuddin': 118,\n",
              " 'nominated': 91,\n",
              " 'serve': 114,\n",
              " 'head': 60,\n",
              " 'acceding': 0,\n",
              " 'student': 123,\n",
              " 'demand': 34,\n",
              " 'following': 49,\n",
              " 'resignation': 111,\n",
              " 'former': 50,\n",
              " 'prime': 104,\n",
              " 'minister': 79,\n",
              " 'sheikh': 119,\n",
              " 'hasina': 59,\n",
              " 'main': 74,\n",
              " 'pledge': 97,\n",
              " 'ministry': 80,\n",
              " 'organize': 92,\n",
              " 'constituent': 30,\n",
              " 'assembly': 8,\n",
              " 'draft': 40,\n",
              " 'adopt': 2,\n",
              " 'new': 89,\n",
              " 'democratic': 35,\n",
              " 'inclusive': 65,\n",
              " 'constitution': 31,\n",
              " 'ensuring': 43,\n",
              " 'inviolability': 69,\n",
              " 'human': 63,\n",
              " 'dignity': 37,\n",
              " 'acquittal': 1,\n",
              " 'appeal': 6,\n",
              " 'day': 33,\n",
              " 'charge': 22,\n",
              " 'labour': 71,\n",
              " 'code': 27,\n",
              " 'violation': 130,\n",
              " 'viewed': 129,\n",
              " 'politically': 98,\n",
              " 'motivated': 82,\n",
              " 'facilitated': 46,\n",
              " 'return': 112,\n",
              " 'country': 32,\n",
              " 'appointment': 7,\n",
              " 'name': 86,\n",
              " 'listed': 73,\n",
              " 'influential': 66,\n",
              " 'muslim': 85}"
            ]
          },
          "metadata": {},
          "execution_count": 11
        }
      ]
    },
    {
      "cell_type": "code",
      "source": [
        "print(corpus[0])\n",
        "\n",
        "print(Y[0].toarray())"
      ],
      "metadata": {
        "colab": {
          "base_uri": "https://localhost:8080/"
        },
        "id": "mVI5fPKPbRou",
        "outputId": "cc824de4-385a-47a8-a64c-4bf80b4637d9"
      },
      "execution_count": 14,
      "outputs": [
        {
          "output_type": "stream",
          "name": "stdout",
          "text": [
            "muhammad yunus born june bangladeshi economist entrepreneur politician civil society leader serving th chief adviser interim government bangladesh since august\n",
            "[[0.         0.         0.         0.23615462 0.         0.\n",
            "  0.         0.         0.         0.2043949  0.         0.18186103\n",
            "  0.2043949  0.         0.         0.         0.         0.23615462\n",
            "  0.         0.         0.         0.         0.         0.\n",
            "  0.23615462 0.         0.23615462 0.         0.         0.\n",
            "  0.         0.         0.         0.         0.         0.\n",
            "  0.         0.         0.         0.         0.         0.\n",
            "  0.23615462 0.         0.23615462 0.         0.         0.\n",
            "  0.         0.         0.         0.         0.         0.\n",
            "  0.         0.         0.         0.2043949  0.         0.\n",
            "  0.         0.         0.         0.         0.         0.\n",
            "  0.         0.2043949  0.         0.         0.23615462 0.\n",
            "  0.23615462 0.         0.         0.         0.         0.\n",
            "  0.         0.         0.         0.         0.         0.\n",
            "  0.23615462 0.         0.         0.         0.         0.\n",
            "  0.         0.         0.         0.         0.         0.\n",
            "  0.         0.         0.         0.23615462 0.         0.\n",
            "  0.         0.         0.         0.         0.         0.\n",
            "  0.         0.         0.         0.         0.         0.\n",
            "  0.         0.         0.23615462 0.         0.         0.\n",
            "  0.23615462 0.23615462 0.         0.         0.         0.23615462\n",
            "  0.         0.         0.         0.         0.         0.\n",
            "  0.13802683]]\n"
          ]
        }
      ]
    }
  ]
}